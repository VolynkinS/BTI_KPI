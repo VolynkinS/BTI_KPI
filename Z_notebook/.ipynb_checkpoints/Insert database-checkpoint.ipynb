{
 "cells": [
  {
   "cell_type": "code",
   "execution_count": 2,
   "id": "25d103e3",
   "metadata": {},
   "outputs": [],
   "source": [
    "from django.db import models\n",
    "from kpi.models import Kpi, Criteria, Indicator, Category, UserAnswer"
   ]
  },
  {
   "cell_type": "code",
   "execution_count": 3,
   "id": "59314a2b",
   "metadata": {},
   "outputs": [],
   "source": [
    "# Создать все KPI\n",
    "with open('texts/kpi.txt', encoding=\"UTF-8\") as file:\n",
    "    kpi = [x.strip() for x in file.readlines()]\n",
    "\n",
    "for x in kpi:\n",
    "    Kpi.objects.create(name=x)"
   ]
  },
  {
   "cell_type": "code",
   "execution_count": 4,
   "id": "35e28804",
   "metadata": {},
   "outputs": [],
   "source": [
    "# Создать все Criteria с id=1\n",
    "with open('texts/criteria.txt', encoding=\"UTF-8\") as file:\n",
    "    criterias = [x.strip() for x in file.readlines()]\n",
    "\n",
    "for x in criterias:\n",
    "    Criteria.objects.create(name=x, kpi_id=1)"
   ]
  },
  {
   "cell_type": "code",
   "execution_count": 5,
   "id": "889313de",
   "metadata": {},
   "outputs": [],
   "source": [
    "# Создать все Criteria с id=2\n",
    "with open('texts/criteria_2.txt', encoding=\"UTF-8\") as file:\n",
    "    criterias = [x.strip() for x in file.readlines()]\n",
    "\n",
    "for x in criterias:\n",
    "    Criteria.objects.create(name=x, kpi_id=2)"
   ]
  },
  {
   "cell_type": "code",
   "execution_count": 6,
   "id": "a06e34b7",
   "metadata": {},
   "outputs": [],
   "source": [
    "# Создать все Criteria с id=3\n",
    "with open('texts/criteria_3.txt', encoding=\"UTF-8\") as file:\n",
    "    criterias = [x.strip() for x in file.readlines()]\n",
    "\n",
    "for x in criterias:\n",
    "    Criteria.objects.create(name=x, kpi_id=3)"
   ]
  },
  {
   "cell_type": "code",
   "execution_count": 7,
   "id": "f9ce5531",
   "metadata": {},
   "outputs": [],
   "source": [
    "# Создать все Criteria с id=4\n",
    "with open('texts/criteria_4.txt', encoding=\"UTF-8\") as file:\n",
    "    criterias = [x.strip() for x in file.readlines()]\n",
    "\n",
    "for x in criterias:\n",
    "    Criteria.objects.create(name=x, kpi_id=4)"
   ]
  },
  {
   "cell_type": "code",
   "execution_count": 8,
   "id": "71e2ad0e",
   "metadata": {},
   "outputs": [],
   "source": [
    "# Создать все Indicator с id=1_1\n",
    "with open('texts/indicator/indicator_1_1.txt', encoding=\"UTF-8\") as file:\n",
    "    indicators = [x.strip() for x in file.readlines()]\n",
    "\n",
    "for x in indicators:\n",
    "    Indicator.objects.create(name=x, criteria_id=1)"
   ]
  },
  {
   "cell_type": "code",
   "execution_count": 9,
   "id": "25035333",
   "metadata": {},
   "outputs": [],
   "source": [
    "# Создать все Indicator с id=1_2\n",
    "with open('texts/indicator/indicator_1_2.txt', encoding=\"UTF-8\") as file:\n",
    "    indicators = [x.strip() for x in file.readlines()]\n",
    "\n",
    "for x in indicators:\n",
    "    Indicator.objects.create(name=x, criteria_id=2)"
   ]
  },
  {
   "cell_type": "code",
   "execution_count": 10,
   "id": "30402c1a",
   "metadata": {},
   "outputs": [],
   "source": [
    "# Создать все Indicator с id=2_1\n",
    "with open('texts/indicator/indicator_2_1.txt', encoding=\"UTF-8\") as file:\n",
    "    indicators = [x.strip() for x in file.readlines()]\n",
    "\n",
    "for x in indicators:\n",
    "    Indicator.objects.create(name=x, criteria_id=3)"
   ]
  },
  {
   "cell_type": "code",
   "execution_count": 11,
   "id": "97b96caf",
   "metadata": {},
   "outputs": [],
   "source": [
    "# Создать все Indicator с id=2_2\n",
    "with open('texts/indicator/indicator_2_2.txt', encoding=\"UTF-8\") as file:\n",
    "    indicators = [x.strip() for x in file.readlines()]\n",
    "\n",
    "for x in indicators:\n",
    "    Indicator.objects.create(name=x, criteria_id=4)"
   ]
  },
  {
   "cell_type": "code",
   "execution_count": 12,
   "id": "131e21fd",
   "metadata": {},
   "outputs": [],
   "source": [
    "# Создать все Indicator с id=2_3\n",
    "with open('texts/indicator/indicator_2_3.txt', encoding=\"UTF-8\") as file:\n",
    "    indicators = [x.strip() for x in file.readlines()]\n",
    "\n",
    "for x in indicators:\n",
    "    Indicator.objects.create(name=x, criteria_id=5)"
   ]
  },
  {
   "cell_type": "code",
   "execution_count": 13,
   "id": "9c697ec6",
   "metadata": {},
   "outputs": [],
   "source": [
    "# Создать все Indicator с id=3_1-8\n",
    "with open('texts/indicator/indicator_3_1-8.txt', encoding=\"UTF-8\") as file:\n",
    "    indicators = [x.strip() for x in file.readlines()]\n",
    "\n",
    "for x, y in zip(indicators, range(6, 14)):\n",
    "    Indicator.objects.create(name=x, criteria_id=y)"
   ]
  },
  {
   "cell_type": "code",
   "execution_count": 14,
   "id": "68ee1121",
   "metadata": {},
   "outputs": [],
   "source": [
    "# Создать все Indicator с id=3_9\n",
    "with open('texts/indicator/indicator_3_9.txt', encoding=\"UTF-8\") as file:\n",
    "    indicators = [x.strip() for x in file.readlines()]\n",
    "\n",
    "for x in indicators:\n",
    "    Indicator.objects.create(name=x, criteria_id=14)"
   ]
  },
  {
   "cell_type": "code",
   "execution_count": 15,
   "id": "6e21210c",
   "metadata": {},
   "outputs": [],
   "source": [
    "# Создать все Indicator с id=3_10-14\n",
    "with open('texts/indicator/indicator_3_10-14.txt', encoding=\"UTF-8\") as file:\n",
    "    indicators = [x.strip() for x in file.readlines()]\n",
    "\n",
    "for x, y in zip(indicators, range(15, 20)):\n",
    "    Indicator.objects.create(name=x, criteria_id=y)"
   ]
  },
  {
   "cell_type": "code",
   "execution_count": 16,
   "id": "c20c628f",
   "metadata": {},
   "outputs": [],
   "source": [
    "# Создать все Indicator с id=4\n",
    "with open('texts/indicator/indicator_4.txt', encoding=\"UTF-8\") as file:\n",
    "    indicators = [x.strip() for x in file.readlines()]\n",
    "\n",
    "for x, y in zip(indicators, range(20, 22)):\n",
    "    Indicator.objects.create(name=x, criteria_id=y)"
   ]
  }
 ],
 "metadata": {
  "kernelspec": {
   "display_name": "Django Shell-Plus",
   "language": "python",
   "name": "django_extensions"
  },
  "language_info": {
   "codemirror_mode": {
    "name": "ipython",
    "version": 3
   },
   "file_extension": ".py",
   "mimetype": "text/x-python",
   "name": "python",
   "nbconvert_exporter": "python",
   "pygments_lexer": "ipython3",
   "version": "3.10.5"
  }
 },
 "nbformat": 4,
 "nbformat_minor": 5
}
